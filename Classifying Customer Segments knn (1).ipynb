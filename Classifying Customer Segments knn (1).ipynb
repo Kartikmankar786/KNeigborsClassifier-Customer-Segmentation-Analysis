{
 "cells": [
  {
   "cell_type": "markdown",
   "id": "e0af4d0c-8a41-43b3-a4b4-b5a70f85292b",
   "metadata": {},
   "source": [
    "Problem: Classifying Customer Segments\n",
    "Context: You work for a retail company that wants to segment its customers to tailor marketing strategies better. You have customer data that includes various features like age, income, spending score, and shopping frequency.\n",
    "\n",
    "Dataset:\n",
    "\n",
    "Features:\n",
    "\n",
    "Age\n",
    "Annual Income\n",
    "Spending Score (a measure of spending habits on a scale of 1-100)\n",
    "Shopping Frequency (number of visits to the store per month)\n",
    "Target:\n",
    "\n",
    "Customer Segment (categorical: e.g., \"Low Spender\", \"Medium Spender\", \"High Spender\")\n",
    "Task:\n",
    "Use the k-NN algorithm to classify customers into different segments based on their features.\n",
    "\n",
    "Steps:\n",
    "\n",
    "Data Preprocessing:\n",
    "\n",
    "Normalize numerical features (e.g., age, income) since k-NN is sensitive to the scale of data.\n",
    "Convert the target variable \"Customer Segment\" into numerical labels if it's not already.\n",
    "Model Building:\n",
    "\n",
    "Choose an appropriate value for \n",
    "𝑘\n",
    "k (the number of neighbors) through cross-validation or another method.\n",
    "Train the k-NN model on the labeled data.\n",
    "Evaluation:\n",
    "\n",
    "Evaluate the model using metrics like accuracy, precision, recall, and F1-score.\n",
    "Analyze the confusion matrix to understand the model's performance across different customer segments.\n",
    "Application:\n",
    "\n",
    "Use the trained model to classify new customers into segments, aiding targeted marketing and personalized offers."
   ]
  },
  {
   "cell_type": "code",
   "execution_count": 1,
   "id": "15254222-3848-4fd7-ba9f-a9708e3a6e38",
   "metadata": {},
   "outputs": [],
   "source": [
    "import pandas as pd\n",
    "from sklearn.preprocessing import LabelEncoder\n",
    "from sklearn.model_selection import train_test_split\n",
    "from sklearn.neighbors import KNeighborsClassifier"
   ]
  },
  {
   "cell_type": "code",
   "execution_count": 2,
   "id": "23ace9b9-3061-4540-81a7-5db24a8ba1ae",
   "metadata": {},
   "outputs": [],
   "source": [
    "df = pd.read_csv('customer_segmentation_data.csv')"
   ]
  },
  {
   "cell_type": "code",
   "execution_count": 4,
   "id": "f8ed67ab-27eb-4d87-8880-81072d8ab369",
   "metadata": {},
   "outputs": [
    {
     "name": "stdout",
     "output_type": "stream",
     "text": [
      "<class 'pandas.core.frame.DataFrame'>\n",
      "RangeIndex: 100 entries, 0 to 99\n",
      "Data columns (total 5 columns):\n",
      " #   Column              Non-Null Count  Dtype \n",
      "---  ------              --------------  ----- \n",
      " 0   Age                 100 non-null    int64 \n",
      " 1   Annual Income       100 non-null    int64 \n",
      " 2   Spending Score      100 non-null    int64 \n",
      " 3   Shopping Frequency  100 non-null    int64 \n",
      " 4   Customer Segment    100 non-null    object\n",
      "dtypes: int64(4), object(1)\n",
      "memory usage: 4.0+ KB\n"
     ]
    }
   ],
   "source": [
    "df.info()"
   ]
  },
  {
   "cell_type": "code",
   "execution_count": 6,
   "id": "f979c4db-1285-497e-b00c-55df71bba639",
   "metadata": {},
   "outputs": [
    {
     "data": {
      "text/html": [
       "<div>\n",
       "<style scoped>\n",
       "    .dataframe tbody tr th:only-of-type {\n",
       "        vertical-align: middle;\n",
       "    }\n",
       "\n",
       "    .dataframe tbody tr th {\n",
       "        vertical-align: top;\n",
       "    }\n",
       "\n",
       "    .dataframe thead th {\n",
       "        text-align: right;\n",
       "    }\n",
       "</style>\n",
       "<table border=\"1\" class=\"dataframe\">\n",
       "  <thead>\n",
       "    <tr style=\"text-align: right;\">\n",
       "      <th></th>\n",
       "      <th>Age</th>\n",
       "      <th>Annual Income</th>\n",
       "      <th>Spending Score</th>\n",
       "      <th>Shopping Frequency</th>\n",
       "      <th>Customer Segment</th>\n",
       "    </tr>\n",
       "  </thead>\n",
       "  <tbody>\n",
       "    <tr>\n",
       "      <th>0</th>\n",
       "      <td>56</td>\n",
       "      <td>91228</td>\n",
       "      <td>2</td>\n",
       "      <td>14</td>\n",
       "      <td>Low Spender</td>\n",
       "    </tr>\n",
       "    <tr>\n",
       "      <th>1</th>\n",
       "      <td>69</td>\n",
       "      <td>78984</td>\n",
       "      <td>3</td>\n",
       "      <td>18</td>\n",
       "      <td>Low Spender</td>\n",
       "    </tr>\n",
       "    <tr>\n",
       "      <th>2</th>\n",
       "      <td>46</td>\n",
       "      <td>70774</td>\n",
       "      <td>56</td>\n",
       "      <td>2</td>\n",
       "      <td>Medium Spender</td>\n",
       "    </tr>\n",
       "    <tr>\n",
       "      <th>3</th>\n",
       "      <td>32</td>\n",
       "      <td>32568</td>\n",
       "      <td>81</td>\n",
       "      <td>22</td>\n",
       "      <td>High Spender</td>\n",
       "    </tr>\n",
       "    <tr>\n",
       "      <th>4</th>\n",
       "      <td>60</td>\n",
       "      <td>92592</td>\n",
       "      <td>59</td>\n",
       "      <td>3</td>\n",
       "      <td>Medium Spender</td>\n",
       "    </tr>\n",
       "    <tr>\n",
       "      <th>...</th>\n",
       "      <td>...</td>\n",
       "      <td>...</td>\n",
       "      <td>...</td>\n",
       "      <td>...</td>\n",
       "      <td>...</td>\n",
       "    </tr>\n",
       "    <tr>\n",
       "      <th>95</th>\n",
       "      <td>42</td>\n",
       "      <td>69353</td>\n",
       "      <td>89</td>\n",
       "      <td>17</td>\n",
       "      <td>High Spender</td>\n",
       "    </tr>\n",
       "    <tr>\n",
       "      <th>96</th>\n",
       "      <td>62</td>\n",
       "      <td>92003</td>\n",
       "      <td>99</td>\n",
       "      <td>8</td>\n",
       "      <td>High Spender</td>\n",
       "    </tr>\n",
       "    <tr>\n",
       "      <th>97</th>\n",
       "      <td>58</td>\n",
       "      <td>113211</td>\n",
       "      <td>25</td>\n",
       "      <td>1</td>\n",
       "      <td>Low Spender</td>\n",
       "    </tr>\n",
       "    <tr>\n",
       "      <th>98</th>\n",
       "      <td>46</td>\n",
       "      <td>82733</td>\n",
       "      <td>93</td>\n",
       "      <td>9</td>\n",
       "      <td>High Spender</td>\n",
       "    </tr>\n",
       "    <tr>\n",
       "      <th>99</th>\n",
       "      <td>32</td>\n",
       "      <td>95318</td>\n",
       "      <td>18</td>\n",
       "      <td>11</td>\n",
       "      <td>Low Spender</td>\n",
       "    </tr>\n",
       "  </tbody>\n",
       "</table>\n",
       "<p>100 rows × 5 columns</p>\n",
       "</div>"
      ],
      "text/plain": [
       "    Age  Annual Income  Spending Score  Shopping Frequency Customer Segment\n",
       "0    56          91228               2                  14      Low Spender\n",
       "1    69          78984               3                  18      Low Spender\n",
       "2    46          70774              56                   2   Medium Spender\n",
       "3    32          32568              81                  22     High Spender\n",
       "4    60          92592              59                   3   Medium Spender\n",
       "..  ...            ...             ...                 ...              ...\n",
       "95   42          69353              89                  17     High Spender\n",
       "96   62          92003              99                   8     High Spender\n",
       "97   58         113211              25                   1      Low Spender\n",
       "98   46          82733              93                   9     High Spender\n",
       "99   32          95318              18                  11      Low Spender\n",
       "\n",
       "[100 rows x 5 columns]"
      ]
     },
     "execution_count": 6,
     "metadata": {},
     "output_type": "execute_result"
    }
   ],
   "source": [
    "df"
   ]
  },
  {
   "cell_type": "code",
   "execution_count": 7,
   "id": "aa7206bd-e4fa-496a-bab8-eb5e788260f8",
   "metadata": {},
   "outputs": [],
   "source": [
    "label = LabelEncoder()"
   ]
  },
  {
   "cell_type": "code",
   "execution_count": 9,
   "id": "eb50b9ef-904b-4484-9400-33d8135a08ea",
   "metadata": {},
   "outputs": [],
   "source": [
    "df['Customer Segment'] =  label.fit_transform(df['Customer Segment'])"
   ]
  },
  {
   "cell_type": "code",
   "execution_count": 12,
   "id": "0e18e197-b3e9-47b7-85ad-d8bb72559238",
   "metadata": {},
   "outputs": [],
   "source": [
    "X = df.drop('Customer Segment', axis=1)\n",
    "y = df['Customer Segment']"
   ]
  },
  {
   "cell_type": "code",
   "execution_count": 14,
   "id": "5dc6f369-b614-475a-bc44-e4a0430ba03a",
   "metadata": {},
   "outputs": [],
   "source": [
    "X_train, X_test, y_train, y_test = train_test_split(X,y, random_state=42, test_size=0.20)"
   ]
  },
  {
   "cell_type": "raw",
   "id": "3a7f2676-cc3f-4d63-97f1-34b79611368c",
   "metadata": {},
   "source": [
    "To find K value we can use by using loop and other method by gridsearchCV"
   ]
  },
  {
   "cell_type": "code",
   "execution_count": 15,
   "id": "f511efa9-b56e-4e1e-9f88-026d4061db8b",
   "metadata": {},
   "outputs": [],
   "source": [
    "from sklearn.metrics import accuracy_score"
   ]
  },
  {
   "cell_type": "code",
   "execution_count": 71,
   "id": "92fa5718-61fb-4439-af01-8a9395d5520f",
   "metadata": {},
   "outputs": [],
   "source": [
    "k_values = range(1,21)\n",
    "train_pred =[]\n",
    "test_pred = []\n",
    "\n",
    "for k in k_values:\n",
    "    knn = KNeighborsClassifier(n_neighbors=k)\n",
    "    knn.fit(X_train, y_train)\n",
    "    train_preds = knn.predict(X_train)\n",
    "    test_preds = knn.predict(X_test)\n",
    "    train_errors = 1-accuracy_score(y_train, train_preds)\n",
    "    test_errors = 1-accuracy_score(y_test, test_preds)\n",
    "    train_pred.append(train_errors)\n",
    "    test_pred.append(test_errors)"
   ]
  },
  {
   "cell_type": "code",
   "execution_count": 72,
   "id": "3e9e7f9f-f5e3-495c-ae11-3dd915a7d122",
   "metadata": {},
   "outputs": [],
   "source": [
    "import matplotlib.pyplot as plt"
   ]
  },
  {
   "cell_type": "code",
   "execution_count": 73,
   "id": "39517920-a9f4-4a9a-b82e-2f95ca13aaa8",
   "metadata": {},
   "outputs": [
    {
     "data": {
      "image/png": "[encoded data removed]",
      "text/plain": [
       "<Figure size 640x480 with 1 Axes>"
      ]
     },
     "metadata": {},
     "output_type": "display_data"
    }
   ],
   "source": [
    "plt.plot(k_values, train_pred, label='training error', marker='o')\n",
    "plt.plot(k_values, test_pred, label='testing error', marker='o')\n",
    "plt.legend()\n",
    "plt.show()"
   ]
  },
  {
   "cell_type": "code",
   "execution_count": 19,
   "id": "81e4bacb-3293-4bb1-8821-6c1894f5c8cb",
   "metadata": {},
   "outputs": [],
   "source": [
    "from sklearn.model_selection import GridSearchCV"
   ]
  },
  {
   "cell_type": "code",
   "execution_count": 20,
   "id": "98f8f663-e9a6-406f-ad70-b432e8f67b48",
   "metadata": {},
   "outputs": [],
   "source": [
    "knn = KNeighborsClassifier()"
   ]
  },
  {
   "cell_type": "code",
   "execution_count": 59,
   "id": "cb6b66fc-1992-4a2f-93c3-d452673a9369",
   "metadata": {},
   "outputs": [],
   "source": [
    "param = {'n_neighbors':list(range(1,21))}"
   ]
  },
  {
   "cell_type": "code",
   "execution_count": 60,
   "id": "ea4b9bcc-618b-4801-9692-1ca41bab6770",
   "metadata": {},
   "outputs": [],
   "source": [
    "gs = GridSearchCV(estimator=knn, param_grid = param, cv=5, scoring='accuracy')"
   ]
  },
  {
   "cell_type": "code",
   "execution_count": 61,
   "id": "b5be0b21-8ae2-4af0-bd5b-57f6133bd3b9",
   "metadata": {},
   "outputs": [
    {
     "data": {
      "text/html": [
       "<style>#sk-container-id-3 {color: black;background-color: white;}#sk-container-id-3 pre{padding: 0;}#sk-container-id-3 div.sk-toggleable {background-color: white;}#sk-container-id-3 label.sk-toggleable__label {cursor: pointer;display: block;width: 100%;margin-bottom: 0;padding: 0.3em;box-sizing: border-box;text-align: center;}#sk-container-id-3 label.sk-toggleable__label-arrow:before {content: \"▸\";float: left;margin-right: 0.25em;color: #696969;}#sk-container-id-3 label.sk-toggleable__label-arrow:hover:before {color: black;}#sk-container-id-3 div.sk-estimator:hover label.sk-toggleable__label-arrow:before {color: black;}#sk-container-id-3 div.sk-toggleable__content {max-height: 0;max-width: 0;overflow: hidden;text-align: left;background-color: #f0f8ff;}#sk-container-id-3 div.sk-toggleable__content pre {margin: 0.2em;color: black;border-radius: 0.25em;background-color: #f0f8ff;}#sk-container-id-3 input.sk-toggleable__control:checked~div.sk-toggleable__content {max-height: 200px;max-width: 100%;overflow: auto;}#sk-container-id-3 input.sk-toggleable__control:checked~label.sk-toggleable__label-arrow:before {content: \"▾\";}#sk-container-id-3 div.sk-estimator input.sk-toggleable__control:checked~label.sk-toggleable__label {background-color: #d4ebff;}#sk-container-id-3 div.sk-label input.sk-toggleable__control:checked~label.sk-toggleable__label {background-color: #d4ebff;}#sk-container-id-3 input.sk-hidden--visually {border: 0;clip: rect(1px 1px 1px 1px);clip: rect(1px, 1px, 1px, 1px);height: 1px;margin: -1px;overflow: hidden;padding: 0;position: absolute;width: 1px;}#sk-container-id-3 div.sk-estimator {font-family: monospace;background-color: #f0f8ff;border: 1px dotted black;border-radius: 0.25em;box-sizing: border-box;margin-bottom: 0.5em;}#sk-container-id-3 div.sk-estimator:hover {background-color: #d4ebff;}#sk-container-id-3 div.sk-parallel-item::after {content: \"\";width: 100%;border-bottom: 1px solid gray;flex-grow: 1;}#sk-container-id-3 div.sk-label:hover label.sk-toggleable__label {background-color: #d4ebff;}#sk-container-id-3 div.sk-serial::before {content: \"\";position: absolute;border-left: 1px solid gray;box-sizing: border-box;top: 0;bottom: 0;left: 50%;z-index: 0;}#sk-container-id-3 div.sk-serial {display: flex;flex-direction: column;align-items: center;background-color: white;padding-right: 0.2em;padding-left: 0.2em;position: relative;}#sk-container-id-3 div.sk-item {position: relative;z-index: 1;}#sk-container-id-3 div.sk-parallel {display: flex;align-items: stretch;justify-content: center;background-color: white;position: relative;}#sk-container-id-3 div.sk-item::before, #sk-container-id-3 div.sk-parallel-item::before {content: \"\";position: absolute;border-left: 1px solid gray;box-sizing: border-box;top: 0;bottom: 0;left: 50%;z-index: -1;}#sk-container-id-3 div.sk-parallel-item {display: flex;flex-direction: column;z-index: 1;position: relative;background-color: white;}#sk-container-id-3 div.sk-parallel-item:first-child::after {align-self: flex-end;width: 50%;}#sk-container-id-3 div.sk-parallel-item:last-child::after {align-self: flex-start;width: 50%;}#sk-container-id-3 div.sk-parallel-item:only-child::after {width: 0;}#sk-container-id-3 div.sk-dashed-wrapped {border: 1px dashed gray;margin: 0 0.4em 0.5em 0.4em;box-sizing: border-box;padding-bottom: 0.4em;background-color: white;}#sk-container-id-3 div.sk-label label {font-family: monospace;font-weight: bold;display: inline-block;line-height: 1.2em;}#sk-container-id-3 div.sk-label-container {text-align: center;}#sk-container-id-3 div.sk-container {/* jupyter's `normalize.less` sets `[hidden] { display: none; }` but bootstrap.min.css set `[hidden] { display: none !important; }` so we also need the `!important` here to be able to override the default hidden behavior on the sphinx rendered scikit-learn.org. See: https://github.com/scikit-learn/scikit-learn/issues/21755 */display: inline-block !important;position: relative;}#sk-container-id-3 div.sk-text-repr-fallback {display: none;}</style><div id=\"sk-container-id-3\" class=\"sk-top-container\"><div class=\"sk-text-repr-fallback\"><pre>GridSearchCV(cv=5, estimator=KNeighborsClassifier(),\n",
       "             param_grid={&#x27;n_neighbors&#x27;: [1, 2, 3, 4, 5, 6, 7, 8, 9, 10, 11, 12,\n",
       "                                         13, 14, 15, 16, 17, 18, 19, 20]},\n",
       "             scoring=&#x27;accuracy&#x27;)</pre><b>In a Jupyter environment, please rerun this cell to show the HTML representation or trust the notebook. <br />On GitHub, the HTML representation is unable to render, please try loading this page with nbviewer.org.</b></div><div class=\"sk-container\" hidden><div class=\"sk-item sk-dashed-wrapped\"><div class=\"sk-label-container\"><div class=\"sk-label sk-toggleable\"><input class=\"sk-toggleable__control sk-hidden--visually\" id=\"sk-estimator-id-7\" type=\"checkbox\" ><label for=\"sk-estimator-id-7\" class=\"sk-toggleable__label sk-toggleable__label-arrow\">GridSearchCV</label><div class=\"sk-toggleable__content\"><pre>GridSearchCV(cv=5, estimator=KNeighborsClassifier(),\n",
       "             param_grid={&#x27;n_neighbors&#x27;: [1, 2, 3, 4, 5, 6, 7, 8, 9, 10, 11, 12,\n",
       "                                         13, 14, 15, 16, 17, 18, 19, 20]},\n",
       "             scoring=&#x27;accuracy&#x27;)</pre></div></div></div><div class=\"sk-parallel\"><div class=\"sk-parallel-item\"><div class=\"sk-item\"><div class=\"sk-label-container\"><div class=\"sk-label sk-toggleable\"><input class=\"sk-toggleable__control sk-hidden--visually\" id=\"sk-estimator-id-8\" type=\"checkbox\" ><label for=\"sk-estimator-id-8\" class=\"sk-toggleable__label sk-toggleable__label-arrow\">estimator: KNeighborsClassifier</label><div class=\"sk-toggleable__content\"><pre>KNeighborsClassifier()</pre></div></div></div><div class=\"sk-serial\"><div class=\"sk-item\"><div class=\"sk-estimator sk-toggleable\"><input class=\"sk-toggleable__control sk-hidden--visually\" id=\"sk-estimator-id-9\" type=\"checkbox\" ><label for=\"sk-estimator-id-9\" class=\"sk-toggleable__label sk-toggleable__label-arrow\">KNeighborsClassifier</label><div class=\"sk-toggleable__content\"><pre>KNeighborsClassifier()</pre></div></div></div></div></div></div></div></div></div></div>"
      ],
      "text/plain": [
       "GridSearchCV(cv=5, estimator=KNeighborsClassifier(),\n",
       "             param_grid={'n_neighbors': [1, 2, 3, 4, 5, 6, 7, 8, 9, 10, 11, 12,\n",
       "                                         13, 14, 15, 16, 17, 18, 19, 20]},\n",
       "             scoring='accuracy')"
      ]
     },
     "execution_count": 61,
     "metadata": {},
     "output_type": "execute_result"
    }
   ],
   "source": [
    "gs.fit(X_train, y_train)"
   ]
  },
  {
   "cell_type": "code",
   "execution_count": 62,
   "id": "3c120577-dc30-4680-9858-7032eb59da04",
   "metadata": {},
   "outputs": [],
   "source": [
    "best = gs.best_params_['n_neighbors']"
   ]
  },
  {
   "cell_type": "code",
   "execution_count": 63,
   "id": "3700ee99-e972-49d3-a6ef-8b60fd4aa819",
   "metadata": {},
   "outputs": [
    {
     "data": {
      "text/plain": [
       "15"
      ]
     },
     "execution_count": 63,
     "metadata": {},
     "output_type": "execute_result"
    }
   ],
   "source": [
    "best"
   ]
  },
  {
   "cell_type": "code",
   "execution_count": 75,
   "id": "9c18582c-cd49-467d-93bb-d7acb8a28aec",
   "metadata": {},
   "outputs": [],
   "source": [
    "ss = StandardScaler()"
   ]
  },
  {
   "cell_type": "code",
   "execution_count": 77,
   "id": "1874d104-1ca0-4ea1-b07c-495ff71ad99f",
   "metadata": {},
   "outputs": [
    {
     "name": "stdout",
     "output_type": "stream",
     "text": [
      "              precision    recall  f1-score   support\n",
      "\n",
      "           0       0.75      1.00      0.86         6\n",
      "           1       1.00      1.00      1.00         8\n",
      "           2       1.00      0.67      0.80         6\n",
      "\n",
      "    accuracy                           0.90        20\n",
      "   macro avg       0.92      0.89      0.89        20\n",
      "weighted avg       0.93      0.90      0.90        20\n",
      "\n"
     ]
    }
   ],
   "source": [
    "X_train = ss.fit_transform(X_train)\n",
    "X_test = ss.transform(X_test)\n",
    "knn1 = KNeighborsClassifier(n_neighbors=15)\n",
    "models = knn1.fit(X_train, y_train)\n",
    "y_pred = models.predict(X_test)\n",
    "a = classification_report(y_test, y_pred)\n",
    "print(a)"
   ]
  },
  {
   "cell_type": "code",
   "execution_count": null,
   "id": "c410c0e5-8e82-47ea-b33c-d2710526ed0c",
   "metadata": {},
   "outputs": [],
   "source": []
  }
 ],
 "metadata": {
  "kernelspec": {
   "display_name": "Python 3 (ipykernel)",
   "language": "python",
   "name": "python3"
  },
  "language_info": {
   "codemirror_mode": {
    "name": "ipython",
    "version": 3
   },
   "file_extension": ".py",
   "mimetype": "text/x-python",
   "name": "python",
   "nbconvert_exporter": "python",
   "pygments_lexer": "ipython3",
   "version": "3.11.7"
  }
 },
 "nbformat": 4,
 "nbformat_minor": 5
}
